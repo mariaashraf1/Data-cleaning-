{
 "cells": [
  {
   "cell_type": "markdown",
   "id": "d879eb32",
   "metadata": {
    "papermill": {
     "duration": 0.006978,
     "end_time": "2023-07-02T21:36:13.928305",
     "exception": false,
     "start_time": "2023-07-02T21:36:13.921327",
     "status": "completed"
    },
    "tags": []
   },
   "source": [
    "**This notebook is an exercise in the [Data Cleaning](https://www.kaggle.com/learn/data-cleaning) course.  You can reference the tutorial at [this link](https://www.kaggle.com/alexisbcook/character-encodings).**\n",
    "\n",
    "---\n"
   ]
  },
  {
   "cell_type": "markdown",
   "id": "939e7609",
   "metadata": {
    "papermill": {
     "duration": 0.005787,
     "end_time": "2023-07-02T21:36:13.940481",
     "exception": false,
     "start_time": "2023-07-02T21:36:13.934694",
     "status": "completed"
    },
    "tags": []
   },
   "source": [
    "In this exercise, you'll apply what you learned in the **Character encodings** tutorial.\n",
    "\n",
    "# Setup\n",
    "\n",
    "The questions below will give you feedback on your work. Run the following cell to set up the feedback system."
   ]
  },
  {
   "cell_type": "code",
   "execution_count": 1,
   "id": "c2909866",
   "metadata": {
    "execution": {
     "iopub.execute_input": "2023-07-02T21:36:13.955358Z",
     "iopub.status.busy": "2023-07-02T21:36:13.954769Z",
     "iopub.status.idle": "2023-07-02T21:36:14.074539Z",
     "shell.execute_reply": "2023-07-02T21:36:14.072209Z"
    },
    "papermill": {
     "duration": 0.130675,
     "end_time": "2023-07-02T21:36:14.077303",
     "exception": false,
     "start_time": "2023-07-02T21:36:13.946628",
     "status": "completed"
    },
    "tags": []
   },
   "outputs": [
    {
     "name": "stdout",
     "output_type": "stream",
     "text": [
      "Setup Complete\n"
     ]
    }
   ],
   "source": [
    "from learntools.core import binder\n",
    "binder.bind(globals())\n",
    "from learntools.data_cleaning.ex4 import *\n",
    "print(\"Setup Complete\")"
   ]
  },
  {
   "cell_type": "markdown",
   "id": "d73503cd",
   "metadata": {
    "papermill": {
     "duration": 0.005994,
     "end_time": "2023-07-02T21:36:14.090153",
     "exception": false,
     "start_time": "2023-07-02T21:36:14.084159",
     "status": "completed"
    },
    "tags": []
   },
   "source": [
    "# Get our environment set up\n",
    "\n",
    "The first thing we'll need to do is load in the libraries we'll be using."
   ]
  },
  {
   "cell_type": "code",
   "execution_count": 2,
   "id": "5cfa5ba6",
   "metadata": {
    "execution": {
     "iopub.execute_input": "2023-07-02T21:36:14.104816Z",
     "iopub.status.busy": "2023-07-02T21:36:14.104276Z",
     "iopub.status.idle": "2023-07-02T21:36:14.112927Z",
     "shell.execute_reply": "2023-07-02T21:36:14.111712Z"
    },
    "papermill": {
     "duration": 0.019422,
     "end_time": "2023-07-02T21:36:14.115753",
     "exception": false,
     "start_time": "2023-07-02T21:36:14.096331",
     "status": "completed"
    },
    "tags": []
   },
   "outputs": [],
   "source": [
    "# modules we'll use\n",
    "import pandas as pd\n",
    "import numpy as np\n",
    "\n",
    "# helpful character encoding module\n",
    "import charset_normalizer\n",
    "\n",
    "# set seed for reproducibility\n",
    "np.random.seed(0)"
   ]
  },
  {
   "cell_type": "markdown",
   "id": "1bd8934b",
   "metadata": {
    "papermill": {
     "duration": 0.009043,
     "end_time": "2023-07-02T21:36:14.131857",
     "exception": false,
     "start_time": "2023-07-02T21:36:14.122814",
     "status": "completed"
    },
    "tags": []
   },
   "source": [
    "# 1) What are encodings?\n",
    "\n",
    "You're working with a dataset composed of bytes.  Run the code cell below to print a sample entry."
   ]
  },
  {
   "cell_type": "code",
   "execution_count": 3,
   "id": "b8124643",
   "metadata": {
    "execution": {
     "iopub.execute_input": "2023-07-02T21:36:14.148162Z",
     "iopub.status.busy": "2023-07-02T21:36:14.147641Z",
     "iopub.status.idle": "2023-07-02T21:36:14.154225Z",
     "shell.execute_reply": "2023-07-02T21:36:14.152962Z"
    },
    "papermill": {
     "duration": 0.017612,
     "end_time": "2023-07-02T21:36:14.156772",
     "exception": false,
     "start_time": "2023-07-02T21:36:14.139160",
     "status": "completed"
    },
    "tags": []
   },
   "outputs": [
    {
     "name": "stdout",
     "output_type": "stream",
     "text": [
      "b'\\xa7A\\xa6n'\n",
      "data type: <class 'bytes'>\n"
     ]
    }
   ],
   "source": [
    "sample_entry = b'\\xa7A\\xa6n'\n",
    "print(sample_entry)\n",
    "print('data type:', type(sample_entry))"
   ]
  },
  {
   "cell_type": "markdown",
   "id": "0ed856d6",
   "metadata": {
    "papermill": {
     "duration": 0.0064,
     "end_time": "2023-07-02T21:36:14.170365",
     "exception": false,
     "start_time": "2023-07-02T21:36:14.163965",
     "status": "completed"
    },
    "tags": []
   },
   "source": [
    "You notice that it doesn't use the standard UTF-8 encoding. \n",
    "\n",
    "Use the next code cell to create a variable `new_entry` that changes the encoding from `\"big5-tw\"` to `\"utf-8\"`.  `new_entry` should have the bytes datatype."
   ]
  },
  {
   "cell_type": "code",
   "execution_count": 4,
   "id": "bc225b8a",
   "metadata": {
    "execution": {
     "iopub.execute_input": "2023-07-02T21:36:14.185555Z",
     "iopub.status.busy": "2023-07-02T21:36:14.185123Z",
     "iopub.status.idle": "2023-07-02T21:36:14.195990Z",
     "shell.execute_reply": "2023-07-02T21:36:14.195122Z"
    },
    "papermill": {
     "duration": 0.021616,
     "end_time": "2023-07-02T21:36:14.198608",
     "exception": false,
     "start_time": "2023-07-02T21:36:14.176992",
     "status": "completed"
    },
    "tags": []
   },
   "outputs": [
    {
     "data": {
      "application/javascript": [
       "parent.postMessage({\"jupyterEvent\": \"custom.exercise_interaction\", \"data\": {\"outcomeType\": 1, \"valueTowardsCompletion\": 0.3333333333333333, \"interactionType\": 1, \"questionType\": 1, \"questionId\": \"1_EncodingsIntro\", \"learnToolsVersion\": \"0.3.4\", \"failureMessage\": \"\", \"exceptionClass\": \"\", \"trace\": \"\"}}, \"*\")"
      ],
      "text/plain": [
       "<IPython.core.display.Javascript object>"
      ]
     },
     "metadata": {},
     "output_type": "display_data"
    },
    {
     "data": {
      "text/markdown": [
       "<span style=\"color:#33cc33\">Correct</span>"
      ],
      "text/plain": [
       "Correct"
      ]
     },
     "metadata": {},
     "output_type": "display_data"
    }
   ],
   "source": [
    "before = sample_entry.decode(\"big5-tw\")\n",
    "new_entry = before.encode()\n",
    "\n",
    "# Check your answer\n",
    "q1.check()"
   ]
  },
  {
   "cell_type": "code",
   "execution_count": 5,
   "id": "f6717ed4",
   "metadata": {
    "execution": {
     "iopub.execute_input": "2023-07-02T21:36:14.215147Z",
     "iopub.status.busy": "2023-07-02T21:36:14.214727Z",
     "iopub.status.idle": "2023-07-02T21:36:14.219642Z",
     "shell.execute_reply": "2023-07-02T21:36:14.218255Z"
    },
    "papermill": {
     "duration": 0.016975,
     "end_time": "2023-07-02T21:36:14.222684",
     "exception": false,
     "start_time": "2023-07-02T21:36:14.205709",
     "status": "completed"
    },
    "tags": []
   },
   "outputs": [],
   "source": [
    "# Lines below will give you a hint or solution code\n",
    "#q1.hint()\n",
    "#q1.solution()"
   ]
  },
  {
   "cell_type": "markdown",
   "id": "587524e6",
   "metadata": {
    "papermill": {
     "duration": 0.006844,
     "end_time": "2023-07-02T21:36:14.236967",
     "exception": false,
     "start_time": "2023-07-02T21:36:14.230123",
     "status": "completed"
    },
    "tags": []
   },
   "source": [
    "# 2) Reading in files with encoding problems\n",
    "\n",
    "Use the code cell below to read in this file at path `\"../input/fatal-police-shootings-in-the-us/PoliceKillingsUS.csv\"`.  \n",
    "\n",
    "Figure out what the correct encoding should be and read in the file to a DataFrame `police_killings`."
   ]
  },
  {
   "cell_type": "code",
   "execution_count": 6,
   "id": "55efd106",
   "metadata": {
    "execution": {
     "iopub.execute_input": "2023-07-02T21:36:14.253909Z",
     "iopub.status.busy": "2023-07-02T21:36:14.253468Z",
     "iopub.status.idle": "2023-07-02T21:36:15.133967Z",
     "shell.execute_reply": "2023-07-02T21:36:15.132821Z"
    },
    "papermill": {
     "duration": 0.892444,
     "end_time": "2023-07-02T21:36:15.136579",
     "exception": false,
     "start_time": "2023-07-02T21:36:14.244135",
     "status": "completed"
    },
    "tags": []
   },
   "outputs": [
    {
     "data": {
      "application/javascript": [
       "parent.postMessage({\"jupyterEvent\": \"custom.exercise_interaction\", \"data\": {\"outcomeType\": 1, \"valueTowardsCompletion\": 0.3333333333333333, \"interactionType\": 1, \"questionType\": 1, \"questionId\": \"2_ReadIn\", \"learnToolsVersion\": \"0.3.4\", \"failureMessage\": \"\", \"exceptionClass\": \"\", \"trace\": \"\"}}, \"*\")"
      ],
      "text/plain": [
       "<IPython.core.display.Javascript object>"
      ]
     },
     "metadata": {},
     "output_type": "display_data"
    },
    {
     "data": {
      "text/markdown": [
       "<span style=\"color:#33cc33\">Correct</span>"
      ],
      "text/plain": [
       "Correct"
      ]
     },
     "metadata": {},
     "output_type": "display_data"
    }
   ],
   "source": [
    "# TODO: Load in the DataFrame correctly.\n",
    "with open(\"../input/fatal-police-shootings-in-the-us/PoliceKillingsUS.csv\", 'rb') as rawdata:\n",
    "    police_killings = charset_normalizer.detect(rawdata.read(1000000))\n",
    "police_killings = pd.read_csv(\"../input/fatal-police-shootings-in-the-us/PoliceKillingsUS.csv\", encoding='Windows-1252')\n",
    "# check what the character encoding might be\n",
    "\n",
    "# Check your answer\n",
    "q2.check()"
   ]
  },
  {
   "cell_type": "markdown",
   "id": "cc7ab9c2",
   "metadata": {
    "papermill": {
     "duration": 0.00684,
     "end_time": "2023-07-02T21:36:15.151116",
     "exception": false,
     "start_time": "2023-07-02T21:36:15.144276",
     "status": "completed"
    },
    "tags": []
   },
   "source": [
    "Feel free to use any additional code cells for supplemental work.  To get credit for finishing this question, you'll need to run `q2.check()` and get a result of **Correct**."
   ]
  },
  {
   "cell_type": "code",
   "execution_count": 7,
   "id": "0011dc40",
   "metadata": {
    "execution": {
     "iopub.execute_input": "2023-07-02T21:36:15.167671Z",
     "iopub.status.busy": "2023-07-02T21:36:15.167176Z",
     "iopub.status.idle": "2023-07-02T21:36:15.172363Z",
     "shell.execute_reply": "2023-07-02T21:36:15.171052Z"
    },
    "papermill": {
     "duration": 0.016587,
     "end_time": "2023-07-02T21:36:15.174687",
     "exception": false,
     "start_time": "2023-07-02T21:36:15.158100",
     "status": "completed"
    },
    "tags": []
   },
   "outputs": [],
   "source": [
    "# (Optional) Use this code cell for any additional work."
   ]
  },
  {
   "cell_type": "code",
   "execution_count": 8,
   "id": "4ff2702c",
   "metadata": {
    "execution": {
     "iopub.execute_input": "2023-07-02T21:36:15.191530Z",
     "iopub.status.busy": "2023-07-02T21:36:15.190456Z",
     "iopub.status.idle": "2023-07-02T21:36:15.195829Z",
     "shell.execute_reply": "2023-07-02T21:36:15.194935Z"
    },
    "papermill": {
     "duration": 0.016201,
     "end_time": "2023-07-02T21:36:15.197966",
     "exception": false,
     "start_time": "2023-07-02T21:36:15.181765",
     "status": "completed"
    },
    "tags": []
   },
   "outputs": [],
   "source": [
    "# Lines below will give you a hint or solution code\n",
    "#q2.hint()\n",
    "#q2.solution()"
   ]
  },
  {
   "cell_type": "markdown",
   "id": "a5551c46",
   "metadata": {
    "papermill": {
     "duration": 0.006617,
     "end_time": "2023-07-02T21:36:15.211566",
     "exception": false,
     "start_time": "2023-07-02T21:36:15.204949",
     "status": "completed"
    },
    "tags": []
   },
   "source": [
    "# 3) Saving your files with UTF-8 encoding\n",
    "\n",
    "Save a version of the police killings dataset to CSV with UTF-8 encoding.  Your answer will be marked correct after saving this file.  \n",
    "\n",
    "Note: When using the `to_csv()` method, supply only the name of the file (e.g., `\"my_file.csv\"`).  This saves the file at the filepath `\"/kaggle/working/my_file.csv\"`."
   ]
  },
  {
   "cell_type": "code",
   "execution_count": 9,
   "id": "674a773e",
   "metadata": {
    "execution": {
     "iopub.execute_input": "2023-07-02T21:36:15.228306Z",
     "iopub.status.busy": "2023-07-02T21:36:15.227771Z",
     "iopub.status.idle": "2023-07-02T21:36:15.288060Z",
     "shell.execute_reply": "2023-07-02T21:36:15.286947Z"
    },
    "papermill": {
     "duration": 0.071939,
     "end_time": "2023-07-02T21:36:15.290398",
     "exception": false,
     "start_time": "2023-07-02T21:36:15.218459",
     "status": "completed"
    },
    "tags": []
   },
   "outputs": [
    {
     "data": {
      "application/javascript": [
       "parent.postMessage({\"jupyterEvent\": \"custom.exercise_interaction\", \"data\": {\"outcomeType\": 1, \"valueTowardsCompletion\": 0.3333333333333333, \"interactionType\": 1, \"questionType\": 2, \"questionId\": \"3_SaveCSV\", \"learnToolsVersion\": \"0.3.4\", \"failureMessage\": \"\", \"exceptionClass\": \"\", \"trace\": \"\"}}, \"*\")"
      ],
      "text/plain": [
       "<IPython.core.display.Javascript object>"
      ]
     },
     "metadata": {},
     "output_type": "display_data"
    },
    {
     "data": {
      "text/markdown": [
       "<span style=\"color:#33cc33\">Correct</span>"
      ],
      "text/plain": [
       "Correct"
      ]
     },
     "metadata": {},
     "output_type": "display_data"
    }
   ],
   "source": [
    "# TODO: Save the police killings dataset to CSV\n",
    "police_killings.to_csv(\"my_file.csv\")\n",
    "\n",
    "# Check your answer\n",
    "q3.check()"
   ]
  },
  {
   "cell_type": "code",
   "execution_count": 10,
   "id": "7fefbc64",
   "metadata": {
    "execution": {
     "iopub.execute_input": "2023-07-02T21:36:15.307274Z",
     "iopub.status.busy": "2023-07-02T21:36:15.306769Z",
     "iopub.status.idle": "2023-07-02T21:36:15.312064Z",
     "shell.execute_reply": "2023-07-02T21:36:15.310916Z"
    },
    "papermill": {
     "duration": 0.016894,
     "end_time": "2023-07-02T21:36:15.314596",
     "exception": false,
     "start_time": "2023-07-02T21:36:15.297702",
     "status": "completed"
    },
    "tags": []
   },
   "outputs": [],
   "source": [
    "# Lines below will give you a hint or solution code\n",
    "#q3.hint()\n",
    "#q3.solution()"
   ]
  },
  {
   "cell_type": "markdown",
   "id": "6456f365",
   "metadata": {
    "papermill": {
     "duration": 0.007045,
     "end_time": "2023-07-02T21:36:15.329544",
     "exception": false,
     "start_time": "2023-07-02T21:36:15.322499",
     "status": "completed"
    },
    "tags": []
   },
   "source": [
    "# (Optional) More practice\n",
    "\n",
    "Check out [this dataset of files in different character encodings](https://www.kaggle.com/rtatman/character-encoding-examples). Can you read in all the files with their original encodings and them save them out as UTF-8 files?\n",
    "\n",
    "If you have a file that's in UTF-8 but has just a couple of weird-looking characters in it, you can try out the [ftfy module](https://ftfy.readthedocs.io/en/latest/#) and see if it helps. \n",
    "\n",
    "# Keep going\n",
    "\n",
    "In the final lesson, learn how to [**clean up inconsistent text entries**](https://www.kaggle.com/alexisbcook/inconsistent-data-entry) in your dataset."
   ]
  },
  {
   "cell_type": "markdown",
   "id": "85a7779d",
   "metadata": {
    "papermill": {
     "duration": 0.007082,
     "end_time": "2023-07-02T21:36:15.344254",
     "exception": false,
     "start_time": "2023-07-02T21:36:15.337172",
     "status": "completed"
    },
    "tags": []
   },
   "source": [
    "---\n",
    "\n",
    "\n",
    "\n",
    "\n",
    "*Have questions or comments? Visit the [course discussion forum](https://www.kaggle.com/learn/data-cleaning/discussion) to chat with other learners.*"
   ]
  }
 ],
 "metadata": {
  "kernelspec": {
   "display_name": "Python 3",
   "language": "python",
   "name": "python3"
  },
  "language_info": {
   "codemirror_mode": {
    "name": "ipython",
    "version": 3
   },
   "file_extension": ".py",
   "mimetype": "text/x-python",
   "name": "python",
   "nbconvert_exporter": "python",
   "pygments_lexer": "ipython3",
   "version": "3.10.10"
  },
  "papermill": {
   "default_parameters": {},
   "duration": 16.81164,
   "end_time": "2023-07-02T21:36:16.676606",
   "environment_variables": {},
   "exception": null,
   "input_path": "__notebook__.ipynb",
   "output_path": "__notebook__.ipynb",
   "parameters": {},
   "start_time": "2023-07-02T21:35:59.864966",
   "version": "2.4.0"
  }
 },
 "nbformat": 4,
 "nbformat_minor": 5
}
